{
 "cells": [
  {
   "cell_type": "markdown",
   "id": "f1ee5bc5",
   "metadata": {},
   "source": [
    "# Introduction to Numpy"
   ]
  },
  {
   "cell_type": "markdown",
   "id": "9da1a6a0",
   "metadata": {},
   "source": [
    "# small example"
   ]
  },
  {
   "cell_type": "code",
   "execution_count": 2,
   "id": "35ea3e70",
   "metadata": {},
   "outputs": [
    {
     "data": {
      "text/plain": [
       "'\\n-----------------------------------------------------\\n| Region | Temperature | Rainfall(mm) | Humidity(%) |\\n-----------------------------------------------------\\n| Kanto  |     73      |      67      |    43       |\\n-----------------------------------------------------\\n| Johto  |     91      |      88      |    64       |\\n-----------------------------------------------------\\n| Hoenn  |     87      |      134     |    58       |\\n-----------------------------------------------------\\n| Sinnoh |     102     |      43      |    37       |\\n-----------------------------------------------------\\n| Unova  |     69      |      96      |    70       |\\n-----------------------------------------------------\\n'"
      ]
     },
     "execution_count": 2,
     "metadata": {},
     "output_type": "execute_result"
    }
   ],
   "source": [
    "\"\"\"\n",
    "-----------------------------------------------------\n",
    "| Region | Temperature | Rainfall(mm) | Humidity(%) |\n",
    "-----------------------------------------------------\n",
    "| Kanto  |     73      |      67      |    43       |\n",
    "-----------------------------------------------------\n",
    "| Johto  |     91      |      88      |    64       |\n",
    "-----------------------------------------------------\n",
    "| Hoenn  |     87      |      134     |    58       |\n",
    "-----------------------------------------------------\n",
    "| Sinnoh |     102     |      43      |    37       |\n",
    "-----------------------------------------------------\n",
    "| Unova  |     69      |      96      |    70       |\n",
    "-----------------------------------------------------\n",
    "\"\"\"\n",
    "# converting to set\n",
    "# to find yield of apples above areas\n",
    "# formula is : temp * w1 + rainfall * w2 + humidity * w3\n",
    "# w1 = 0.3  w2 = 0.2  w3 = 0.5"
   ]
  },
  {
   "cell_type": "code",
   "execution_count": 1,
   "id": "4a549396",
   "metadata": {},
   "outputs": [],
   "source": [
    "Kanto = [73, 67, 43]\n",
    "Johto = [91, 88, 64]\n",
    "Hoenn = [87, 134, 58]\n",
    "Sinnoh = [102, 43, 37]\n",
    "Unova = [69, 96, 70]\n",
    "w1 = 0.3  \n",
    "w2 = 0.2  \n",
    "w3 = 0.5\n",
    "weights = [w1, w2, w3]"
   ]
  },
  {
   "cell_type": "code",
   "execution_count": 2,
   "id": "6826cf02",
   "metadata": {},
   "outputs": [
    {
     "data": {
      "text/plain": [
       "[0.3, 0.2, 0.5]"
      ]
     },
     "execution_count": 2,
     "metadata": {},
     "output_type": "execute_result"
    }
   ],
   "source": [
    "weights"
   ]
  },
  {
   "cell_type": "code",
   "execution_count": 3,
   "id": "19788654",
   "metadata": {},
   "outputs": [],
   "source": [
    "def crop_yield(region, weights):\n",
    "    result = 0\n",
    "    for x, w in zip(region, weights):\n",
    "        result += x * w\n",
    "    return result"
   ]
  },
  {
   "cell_type": "code",
   "execution_count": 4,
   "id": "5e9e54f1",
   "metadata": {},
   "outputs": [
    {
     "data": {
      "text/plain": [
       "56.8"
      ]
     },
     "execution_count": 4,
     "metadata": {},
     "output_type": "execute_result"
    }
   ],
   "source": [
    "crop_yield(Kanto, weights)"
   ]
  },
  {
   "cell_type": "markdown",
   "id": "6f295a61",
   "metadata": {},
   "source": [
    "# using numpy for this example"
   ]
  },
  {
   "cell_type": "code",
   "execution_count": 5,
   "id": "21e2e420",
   "metadata": {},
   "outputs": [],
   "source": [
    "import numpy as np\n",
    "kanto = np.array([73, 67, 43])\n",
    "weights = np.array([w1, w2, w3])"
   ]
  },
  {
   "cell_type": "code",
   "execution_count": 6,
   "id": "f04b8e54",
   "metadata": {},
   "outputs": [
    {
     "data": {
      "text/plain": [
       "array([73, 67, 43])"
      ]
     },
     "execution_count": 6,
     "metadata": {},
     "output_type": "execute_result"
    }
   ],
   "source": [
    "kanto"
   ]
  },
  {
   "cell_type": "code",
   "execution_count": 7,
   "id": "5581b329",
   "metadata": {},
   "outputs": [
    {
     "data": {
      "text/plain": [
       "array([0.3, 0.2, 0.5])"
      ]
     },
     "execution_count": 7,
     "metadata": {},
     "output_type": "execute_result"
    }
   ],
   "source": [
    "weights"
   ]
  },
  {
   "cell_type": "code",
   "execution_count": 8,
   "id": "73bf966e",
   "metadata": {},
   "outputs": [
    {
     "data": {
      "text/plain": [
       "numpy.ndarray"
      ]
     },
     "execution_count": 8,
     "metadata": {},
     "output_type": "execute_result"
    }
   ],
   "source": [
    "type(kanto)\n",
    "type(weights)"
   ]
  },
  {
   "cell_type": "code",
   "execution_count": 9,
   "id": "0e85b360",
   "metadata": {
    "scrolled": true
   },
   "outputs": [
    {
     "data": {
      "text/plain": [
       "56.8"
      ]
     },
     "execution_count": 9,
     "metadata": {},
     "output_type": "execute_result"
    }
   ],
   "source": [
    "np.dot(kanto, weights)"
   ]
  },
  {
   "cell_type": "code",
   "execution_count": 22,
   "id": "7d3266ab",
   "metadata": {},
   "outputs": [
    {
     "data": {
      "text/plain": [
       "56.8"
      ]
     },
     "execution_count": 22,
     "metadata": {},
     "output_type": "execute_result"
    }
   ],
   "source": [
    "# full code \n",
    "import numpy as np\n",
    "kanto = np.array([73, 67, 43])\n",
    "johto = np.array([91, 88, 64])\n",
    "hoenn = np.array([87, 134, 58])\n",
    "sinnoh = np.array([102, 43, 37])\n",
    "unova = np.array([69, 96, 70])\n",
    "weights = np.array([w1, w2, w3])\n",
    "np.dot(kanto, weights)           # one meyhod"
   ]
  },
  {
   "cell_type": "code",
   "execution_count": 11,
   "id": "826e9afb",
   "metadata": {},
   "outputs": [
    {
     "data": {
      "text/plain": [
       "56.8"
      ]
     },
     "execution_count": 11,
     "metadata": {},
     "output_type": "execute_result"
    }
   ],
   "source": [
    "# before code\n",
    "Kanto = [73, 67, 43]\n",
    "w1 = 0.3  \n",
    "w2 = 0.2  \n",
    "w3 = 0.5\n",
    "weights = [w1, w2, w3]\n",
    "def crop_yield(region, weights):\n",
    "    result = 0\n",
    "    for x, w in zip(region, weights):\n",
    "        result += x * w\n",
    "    return result\n",
    "crop_yield(Kanto, weights)"
   ]
  },
  {
   "cell_type": "code",
   "execution_count": 12,
   "id": "7ae5adf0",
   "metadata": {},
   "outputs": [
    {
     "data": {
      "text/plain": [
       "56.8"
      ]
     },
     "execution_count": 12,
     "metadata": {},
     "output_type": "execute_result"
    }
   ],
   "source": [
    "(kanto * weights).sum()      # second method"
   ]
  },
  {
   "cell_type": "markdown",
   "id": "b2354fbc",
   "metadata": {},
   "source": [
    "# Time difference "
   ]
  },
  {
   "cell_type": "code",
   "execution_count": 13,
   "id": "94a8857f",
   "metadata": {},
   "outputs": [],
   "source": [
    "import numpy as np\n",
    "# python list\n",
    "bg = list(range(1000000))             # 1 to 1000000-1\n",
    "rt = list(range(1000000, 2000000))    # 1000000 to 2000000-1\n",
    "# Numpy array\n",
    "bg_np = np.array(bg, dtype=np.int64)\n",
    "rt_np = np.array(rt, dtype=np.int64)"
   ]
  },
  {
   "cell_type": "code",
   "execution_count": 14,
   "id": "e8e30fee",
   "metadata": {},
   "outputs": [
    {
     "name": "stdout",
     "output_type": "stream",
     "text": [
      "833332333333500000\n",
      "CPU times: total: 250 ms\n",
      "Wall time: 373 ms\n"
     ]
    }
   ],
   "source": [
    "%%time\n",
    "result = 0\n",
    "for x1, x2 in zip(bg, rt):\n",
    "    result += x1*x2\n",
    "print(result)"
   ]
  },
  {
   "cell_type": "code",
   "execution_count": 15,
   "id": "c61cb7e1",
   "metadata": {},
   "outputs": [
    {
     "name": "stdout",
     "output_type": "stream",
     "text": [
      "833332333333500000\n",
      "CPU times: total: 0 ns\n",
      "Wall time: 2.99 ms\n"
     ]
    }
   ],
   "source": [
    "%%time\n",
    "u = np.dot(bg_np, rt_np)\n",
    "print(u)"
   ]
  },
  {
   "cell_type": "markdown",
   "id": "ecb5eb0f",
   "metadata": {},
   "source": [
    "# two dimension array"
   ]
  },
  {
   "cell_type": "code",
   "execution_count": 16,
   "id": "3f0a3d87",
   "metadata": {},
   "outputs": [
    {
     "data": {
      "text/plain": [
       "[[73, 67, 43], [91, 88, 64], [87, 134, 58], [102, 43, 37], [69, 96, 70]]"
      ]
     },
     "execution_count": 16,
     "metadata": {},
     "output_type": "execute_result"
    }
   ],
   "source": [
    "climate_d = [[73, 67, 43], [91, 88, 64], [87, 134, 58], [102, 43, 37],[69, 96, 70]]\n",
    "climate_d"
   ]
  },
  {
   "cell_type": "code",
   "execution_count": 17,
   "id": "d4c5f513",
   "metadata": {},
   "outputs": [
    {
     "data": {
      "text/plain": [
       "(5, 3)"
      ]
     },
     "execution_count": 17,
     "metadata": {},
     "output_type": "execute_result"
    }
   ],
   "source": [
    "climate_np = np.array(climate_d, dtype=np.int64)\n",
    "climate_np.shape"
   ]
  },
  {
   "cell_type": "code",
   "execution_count": 18,
   "id": "5c9df76f",
   "metadata": {},
   "outputs": [
    {
     "data": {
      "text/plain": [
       "[0.3, 0.2, 0.5]"
      ]
     },
     "execution_count": 18,
     "metadata": {},
     "output_type": "execute_result"
    }
   ],
   "source": [
    "weights"
   ]
  },
  {
   "cell_type": "code",
   "execution_count": 23,
   "id": "9864edde",
   "metadata": {},
   "outputs": [
    {
     "data": {
      "text/plain": [
       "(3,)"
      ]
     },
     "execution_count": 23,
     "metadata": {},
     "output_type": "execute_result"
    }
   ],
   "source": [
    "weights.shape"
   ]
  },
  {
   "cell_type": "code",
   "execution_count": 24,
   "id": "cbe2c563",
   "metadata": {},
   "outputs": [
    {
     "data": {
      "text/plain": [
       "dtype('float64')"
      ]
     },
     "execution_count": 24,
     "metadata": {},
     "output_type": "execute_result"
    }
   ],
   "source": [
    "weights.dtype"
   ]
  },
  {
   "cell_type": "code",
   "execution_count": 25,
   "id": "21dad616",
   "metadata": {},
   "outputs": [
    {
     "data": {
      "text/plain": [
       "dtype('int64')"
      ]
     },
     "execution_count": 25,
     "metadata": {},
     "output_type": "execute_result"
    }
   ],
   "source": [
    "climate_np.dtype"
   ]
  },
  {
   "cell_type": "code",
   "execution_count": 26,
   "id": "64cea30b",
   "metadata": {},
   "outputs": [
    {
     "data": {
      "text/plain": [
       "array([56.8, 76.9, 81.9, 57.7, 74.9])"
      ]
     },
     "execution_count": 26,
     "metadata": {},
     "output_type": "execute_result"
    }
   ],
   "source": [
    "np.matmul(climate_np, weights)"
   ]
  },
  {
   "cell_type": "code",
   "execution_count": 27,
   "id": "2437cb1c",
   "metadata": {},
   "outputs": [
    {
     "name": "stdout",
     "output_type": "stream",
     "text": [
      "CPU times: total: 0 ns\n",
      "Wall time: 0 ns\n"
     ]
    },
    {
     "data": {
      "text/plain": [
       "array([56.8, 76.9, 81.9, 57.7, 74.9])"
      ]
     },
     "execution_count": 27,
     "metadata": {},
     "output_type": "execute_result"
    }
   ],
   "source": [
    "%%time\n",
    "si = climate_np @ weights\n",
    "si"
   ]
  },
  {
   "cell_type": "markdown",
   "id": "064a4a18",
   "metadata": {},
   "source": [
    "# Final code of 2D"
   ]
  },
  {
   "cell_type": "code",
   "execution_count": 29,
   "id": "e064d6b5",
   "metadata": {},
   "outputs": [
    {
     "name": "stdout",
     "output_type": "stream",
     "text": [
      "[56.8 76.9 81.9 57.7 74.9]\n"
     ]
    },
    {
     "data": {
      "text/plain": [
       "array([56.8, 76.9, 81.9, 57.7, 74.9])"
      ]
     },
     "execution_count": 29,
     "metadata": {},
     "output_type": "execute_result"
    }
   ],
   "source": [
    "climate_d = [[73, 67, 43], [91, 88, 64], [87, 134, 58], [102, 43, 37],[69, 96, 70]]\n",
    "climate_np = np.array(climate_d, dtype=np.int64)\n",
    "d = np.matmul(climate_np, weights)\n",
    "sv = climate_np @ weights\n",
    "print(d)\n",
    "sv"
   ]
  },
  {
   "cell_type": "markdown",
   "id": "61403391",
   "metadata": {},
   "source": [
    "# Saving the data in jovian website"
   ]
  },
  {
   "cell_type": "code",
   "execution_count": 2,
   "id": "2d724b0a",
   "metadata": {},
   "outputs": [
    {
     "name": "stdout",
     "output_type": "stream",
     "text": [
      "Note: you may need to restart the kernel to use updated packages.\n"
     ]
    }
   ],
   "source": [
    "pip install jovian --upgrade --quiet "
   ]
  },
  {
   "cell_type": "code",
   "execution_count": 1,
   "id": "6e915401",
   "metadata": {},
   "outputs": [],
   "source": [
    "import jovian"
   ]
  },
  {
   "cell_type": "code",
   "execution_count": 2,
   "id": "6f07fe26",
   "metadata": {},
   "outputs": [
    {
     "data": {
      "application/javascript": [
       "window.require && require([\"base/js/namespace\"],function(Jupyter){Jupyter.notebook.save_checkpoint()})"
      ],
      "text/plain": [
       "<IPython.core.display.Javascript object>"
      ]
     },
     "metadata": {},
     "output_type": "display_data"
    },
    {
     "name": "stdout",
     "output_type": "stream",
     "text": [
      "[jovian] Please enter your API key ( from https://jovian.com/ ):\u001b[0m\n",
      "API KEY: ········\n",
      "[jovian] Creating a new project \"sivaalgebra27/Numpy\"\u001b[0m\n",
      "[jovian] Committed successfully! https://jovian.com/sivaalgebra27/numpy\u001b[0m\n"
     ]
    },
    {
     "data": {
      "text/plain": [
       "'https://jovian.com/sivaalgebra27/numpy'"
      ]
     },
     "execution_count": 2,
     "metadata": {},
     "output_type": "execute_result"
    }
   ],
   "source": [
    "jovian.commit(project='Numpy')"
   ]
  },
  {
   "cell_type": "markdown",
   "id": "7112601c",
   "metadata": {},
   "source": [
    "# Using CSV file "
   ]
  },
  {
   "cell_type": "markdown",
   "id": "a51b2b6c",
   "metadata": {},
   "source": [
    "# importing file "
   ]
  },
  {
   "cell_type": "code",
   "execution_count": 3,
   "id": "c369a559",
   "metadata": {},
   "outputs": [
    {
     "data": {
      "text/plain": [
       "('climate.txt', <http.client.HTTPMessage at 0x198b80687d0>)"
      ]
     },
     "execution_count": 3,
     "metadata": {},
     "output_type": "execute_result"
    }
   ],
   "source": [
    "\n",
    "import urllib.request\n",
    "\n",
    "urllib.request.urlretrieve(\n",
    "    'https://gist.github.com/BirajCoder/a4ffcb76fd6fb221d76ac2ee2b8584e9/raw/4054f90adfd361b7aa4255e99c2e874664094cea/climate.csv', \n",
    "    'climate.txt')"
   ]
  },
  {
   "cell_type": "markdown",
   "id": "f966d8fc",
   "metadata": {},
   "source": [
    "# converting to arrays"
   ]
  },
  {
   "cell_type": "code",
   "execution_count": 6,
   "id": "7fb7911b",
   "metadata": {},
   "outputs": [],
   "source": [
    "import numpy as np\n",
    "\n",
    "# Read the data from the file 'climate.txt'\n",
    "climate_np = np.genfromtxt('climate.txt', delimiter=',', skip_header=1)"
   ]
  },
  {
   "cell_type": "code",
   "execution_count": 7,
   "id": "e63387d2",
   "metadata": {},
   "outputs": [
    {
     "data": {
      "text/plain": [
       "array([[25., 76., 99.],\n",
       "       [39., 65., 70.],\n",
       "       [59., 45., 77.],\n",
       "       ...,\n",
       "       [99., 62., 58.],\n",
       "       [70., 71., 91.],\n",
       "       [92., 39., 76.]])"
      ]
     },
     "execution_count": 7,
     "metadata": {},
     "output_type": "execute_result"
    }
   ],
   "source": [
    "climate_np"
   ]
  },
  {
   "cell_type": "code",
   "execution_count": 8,
   "id": "50510a3b",
   "metadata": {},
   "outputs": [
    {
     "data": {
      "text/plain": [
       "(10000, 3)"
      ]
     },
     "execution_count": 8,
     "metadata": {},
     "output_type": "execute_result"
    }
   ],
   "source": [
    "climate_np.shape"
   ]
  },
  {
   "cell_type": "code",
   "execution_count": 11,
   "id": "6785fb40",
   "metadata": {},
   "outputs": [
    {
     "data": {
      "text/plain": [
       "dtype('float64')"
      ]
     },
     "execution_count": 11,
     "metadata": {},
     "output_type": "execute_result"
    }
   ],
   "source": [
    "weights = np.array([0.3, 0.2, 0.5])\n",
    "weights.dtype"
   ]
  },
  {
   "cell_type": "markdown",
   "id": "a9959c96",
   "metadata": {},
   "source": [
    "# finding yeilds of apples"
   ]
  },
  {
   "cell_type": "code",
   "execution_count": 12,
   "id": "a8993a30",
   "metadata": {},
   "outputs": [],
   "source": [
    "yeilds = climate_np @ weights"
   ]
  },
  {
   "cell_type": "code",
   "execution_count": 13,
   "id": "2db3def6",
   "metadata": {},
   "outputs": [
    {
     "data": {
      "text/plain": [
       "array([72.2, 59.7, 65.2, ..., 71.1, 80.7, 73.4])"
      ]
     },
     "execution_count": 13,
     "metadata": {},
     "output_type": "execute_result"
    }
   ],
   "source": [
    "yeilds"
   ]
  },
  {
   "cell_type": "code",
   "execution_count": 14,
   "id": "2cdaf510",
   "metadata": {},
   "outputs": [
    {
     "data": {
      "text/plain": [
       "(10000,)"
      ]
     },
     "execution_count": 14,
     "metadata": {},
     "output_type": "execute_result"
    }
   ],
   "source": [
    "yeilds.shape"
   ]
  },
  {
   "cell_type": "code",
   "execution_count": 15,
   "id": "05451297",
   "metadata": {},
   "outputs": [],
   "source": [
    " fin = np.concatenate((climate_np, yeilds.reshape(10000, 1)), axis=1)   "
   ]
  },
  {
   "cell_type": "code",
   "execution_count": 16,
   "id": "f8f9aaeb",
   "metadata": {},
   "outputs": [
    {
     "data": {
      "text/plain": [
       "array([[25. , 76. , 99. , 72.2],\n",
       "       [39. , 65. , 70. , 59.7],\n",
       "       [59. , 45. , 77. , 65.2],\n",
       "       ...,\n",
       "       [99. , 62. , 58. , 71.1],\n",
       "       [70. , 71. , 91. , 80.7],\n",
       "       [92. , 39. , 76. , 73.4]])"
      ]
     },
     "execution_count": 16,
     "metadata": {},
     "output_type": "execute_result"
    }
   ],
   "source": [
    "fin"
   ]
  },
  {
   "cell_type": "markdown",
   "id": "588d1d19",
   "metadata": {},
   "source": [
    "# saving in same file"
   ]
  },
  {
   "cell_type": "code",
   "execution_count": 17,
   "id": "1d2f1bd5",
   "metadata": {},
   "outputs": [],
   "source": [
    "np.savetxt('climate.txt',\n",
    "            fin,\n",
    "            fmt= '%.2f',\n",
    "            header='temperature,rainfall,humidity,yeild_apples',\n",
    "            comments='')\n"
   ]
  },
  {
   "cell_type": "code",
   "execution_count": 18,
   "id": "ac08884c",
   "metadata": {},
   "outputs": [
    {
     "data": {
      "application/javascript": [
       "window.require && require([\"base/js/namespace\"],function(Jupyter){Jupyter.notebook.save_checkpoint()})"
      ],
      "text/plain": [
       "<IPython.core.display.Javascript object>"
      ]
     },
     "metadata": {},
     "output_type": "display_data"
    },
    {
     "name": "stdout",
     "output_type": "stream",
     "text": [
      "[jovian] Updating notebook \"sivaalgebra27/numpy\" on https://jovian.com/\u001b[0m\n",
      "[jovian] Committed successfully! https://jovian.com/sivaalgebra27/numpy\u001b[0m\n"
     ]
    },
    {
     "data": {
      "text/plain": [
       "'https://jovian.com/sivaalgebra27/numpy'"
      ]
     },
     "execution_count": 18,
     "metadata": {},
     "output_type": "execute_result"
    }
   ],
   "source": [
    "jovian.commit(project='Numpy')"
   ]
  },
  {
   "cell_type": "markdown",
   "id": "fe939b65",
   "metadata": {},
   "source": [
    "# Matrix Operations"
   ]
  },
  {
   "cell_type": "code",
   "execution_count": 30,
   "id": "ab0cf87a",
   "metadata": {},
   "outputs": [],
   "source": [
    "import numpy as np\n",
    "rt = np.array([[1, 2, 3, 4],\n",
    "               [5, 6, 7, 8],\n",
    "               [9, 10, 11, 12]])\n",
    "ty = np.array([[13, 14, 15, 16],\n",
    "               [17, 18, 19, 20],\n",
    "               [21, 22, 23, 24]])"
   ]
  },
  {
   "cell_type": "markdown",
   "id": "ce6e48af",
   "metadata": {},
   "source": [
    "# Arthmatic operation"
   ]
  },
  {
   "cell_type": "code",
   "execution_count": 31,
   "id": "9838103b",
   "metadata": {},
   "outputs": [
    {
     "data": {
      "text/plain": [
       "array([[14, 16, 18, 20],\n",
       "       [22, 24, 26, 28],\n",
       "       [30, 32, 34, 36]])"
      ]
     },
     "execution_count": 31,
     "metadata": {},
     "output_type": "execute_result"
    }
   ],
   "source": [
    "# addtion numbers\n",
    "rt + ty"
   ]
  },
  {
   "cell_type": "code",
   "execution_count": 32,
   "id": "4cad8356",
   "metadata": {},
   "outputs": [
    {
     "data": {
      "text/plain": [
       "array([[ 4,  5,  6,  7],\n",
       "       [ 8,  9, 10, 11],\n",
       "       [12, 13, 14, 15]])"
      ]
     },
     "execution_count": 32,
     "metadata": {},
     "output_type": "execute_result"
    }
   ],
   "source": [
    "# add of scalar\n",
    "rt + 3"
   ]
  },
  {
   "cell_type": "code",
   "execution_count": 33,
   "id": "487638b7",
   "metadata": {},
   "outputs": [
    {
     "data": {
      "text/plain": [
       "array([[-12, -12, -12, -12],\n",
       "       [-12, -12, -12, -12],\n",
       "       [-12, -12, -12, -12]])"
      ]
     },
     "execution_count": 33,
     "metadata": {},
     "output_type": "execute_result"
    }
   ],
   "source": [
    "# subtraction numbers\n",
    "rt - ty"
   ]
  },
  {
   "cell_type": "code",
   "execution_count": 34,
   "id": "9a9bfc02",
   "metadata": {},
   "outputs": [
    {
     "data": {
      "text/plain": [
       "array([[-2, -1,  0,  1],\n",
       "       [ 2,  3,  4,  5],\n",
       "       [ 6,  7,  8,  9]])"
      ]
     },
     "execution_count": 34,
     "metadata": {},
     "output_type": "execute_result"
    }
   ],
   "source": [
    "#subtraction of sclar\n",
    "rt - 3"
   ]
  },
  {
   "cell_type": "code",
   "execution_count": 35,
   "id": "09c630e7",
   "metadata": {},
   "outputs": [
    {
     "data": {
      "text/plain": [
       "array([[ 6.5,  7. ,  7.5,  8. ],\n",
       "       [ 8.5,  9. ,  9.5, 10. ],\n",
       "       [10.5, 11. , 11.5, 12. ]])"
      ]
     },
     "execution_count": 35,
     "metadata": {},
     "output_type": "execute_result"
    }
   ],
   "source": [
    "# division of sclar\n",
    "ty / 2"
   ]
  },
  {
   "cell_type": "code",
   "execution_count": 37,
   "id": "f6fbb8b6",
   "metadata": {},
   "outputs": [
    {
     "data": {
      "text/plain": [
       "array([[ 13,  28,  45,  64],\n",
       "       [ 85, 108, 133, 160],\n",
       "       [189, 220, 253, 288]])"
      ]
     },
     "execution_count": 37,
     "metadata": {},
     "output_type": "execute_result"
    }
   ],
   "source": [
    "# multiply numbers\n",
    "rt * ty"
   ]
  },
  {
   "cell_type": "code",
   "execution_count": 38,
   "id": "b94b2189",
   "metadata": {},
   "outputs": [
    {
     "data": {
      "text/plain": [
       "array([[1, 2, 0, 1],\n",
       "       [2, 0, 1, 2],\n",
       "       [0, 1, 2, 0]], dtype=int32)"
      ]
     },
     "execution_count": 38,
     "metadata": {},
     "output_type": "execute_result"
    }
   ],
   "source": [
    "# Modulus with sclar\n",
    "rt % 3"
   ]
  },
  {
   "cell_type": "markdown",
   "id": "1a1a0a18",
   "metadata": {},
   "source": [
    "#  Numpy arrays support brodcasting, which is used to arthmatic operations with two different arrays "
   ]
  },
  {
   "cell_type": "code",
   "execution_count": 39,
   "id": "bf8c8627",
   "metadata": {},
   "outputs": [],
   "source": [
    "yu = np.array([4, 5, 6, 7])"
   ]
  },
  {
   "cell_type": "code",
   "execution_count": 40,
   "id": "db5b1370",
   "metadata": {},
   "outputs": [
    {
     "data": {
      "text/plain": [
       "(3, 4)"
      ]
     },
     "execution_count": 40,
     "metadata": {},
     "output_type": "execute_result"
    }
   ],
   "source": [
    "rt.shape"
   ]
  },
  {
   "cell_type": "code",
   "execution_count": 41,
   "id": "dcad4735",
   "metadata": {},
   "outputs": [
    {
     "data": {
      "text/plain": [
       "(4,)"
      ]
     },
     "execution_count": 41,
     "metadata": {},
     "output_type": "execute_result"
    }
   ],
   "source": [
    "yu.shape"
   ]
  },
  {
   "cell_type": "code",
   "execution_count": 42,
   "id": "f321fd81",
   "metadata": {},
   "outputs": [
    {
     "data": {
      "text/plain": [
       "array([[ 5,  7,  9, 11],\n",
       "       [ 9, 11, 13, 15],\n",
       "       [13, 15, 17, 19]])"
      ]
     },
     "execution_count": 42,
     "metadata": {},
     "output_type": "execute_result"
    }
   ],
   "source": [
    "rt + yu"
   ]
  },
  {
   "cell_type": "code",
   "execution_count": 74,
   "id": "387b61f0",
   "metadata": {},
   "outputs": [
    {
     "data": {
      "application/javascript": [
       "window.require && require([\"base/js/namespace\"],function(Jupyter){Jupyter.notebook.save_checkpoint()})"
      ],
      "text/plain": [
       "<IPython.core.display.Javascript object>"
      ]
     },
     "metadata": {},
     "output_type": "display_data"
    },
    {
     "name": "stdout",
     "output_type": "stream",
     "text": [
      "[jovian] Updating notebook \"sivaalgebra27/numpy\" on https://jovian.com/\u001b[0m\n",
      "[jovian] Committed successfully! https://jovian.com/sivaalgebra27/numpy\u001b[0m\n"
     ]
    },
    {
     "data": {
      "text/plain": [
       "'https://jovian.com/sivaalgebra27/numpy'"
      ]
     },
     "execution_count": 74,
     "metadata": {},
     "output_type": "execute_result"
    }
   ],
   "source": [
    "import jovian\n",
    "jovian.commit(project='Numpy')"
   ]
  },
  {
   "cell_type": "markdown",
   "id": "1b6e71b7",
   "metadata": {},
   "source": [
    "# logicall operation"
   ]
  },
  {
   "cell_type": "code",
   "execution_count": 43,
   "id": "d19c01c7",
   "metadata": {},
   "outputs": [],
   "source": [
    "import numpy as np\n",
    "rt = np.array([[1, 2, 3, 4],\n",
    "               [5, 6, 7, 8],\n",
    "               [9, 10, 11, 12]])\n",
    "ty = np.array([[13, 14, 15, 16],\n",
    "               [17, 18, 19, 20],\n",
    "               [21, 22, 23, 24]])"
   ]
  },
  {
   "cell_type": "code",
   "execution_count": 44,
   "id": "bf4f8e06",
   "metadata": {},
   "outputs": [
    {
     "data": {
      "text/plain": [
       "array([[False, False, False, False],\n",
       "       [False, False, False, False],\n",
       "       [False, False, False, False]])"
      ]
     },
     "execution_count": 44,
     "metadata": {},
     "output_type": "execute_result"
    }
   ],
   "source": [
    "rt == ty"
   ]
  },
  {
   "cell_type": "code",
   "execution_count": 46,
   "id": "900a4da7",
   "metadata": {},
   "outputs": [
    {
     "data": {
      "text/plain": [
       "array([[ True,  True,  True,  True],\n",
       "       [ True,  True,  True,  True],\n",
       "       [ True,  True,  True,  True]])"
      ]
     },
     "execution_count": 46,
     "metadata": {},
     "output_type": "execute_result"
    }
   ],
   "source": [
    "rt != ty"
   ]
  },
  {
   "cell_type": "code",
   "execution_count": 47,
   "id": "75feb345",
   "metadata": {},
   "outputs": [
    {
     "data": {
      "text/plain": [
       "array([[False, False, False, False],\n",
       "       [False, False, False, False],\n",
       "       [False, False, False, False]])"
      ]
     },
     "execution_count": 47,
     "metadata": {},
     "output_type": "execute_result"
    }
   ],
   "source": [
    "rt >= ty"
   ]
  },
  {
   "cell_type": "code",
   "execution_count": 48,
   "id": "cb191966",
   "metadata": {},
   "outputs": [
    {
     "data": {
      "text/plain": [
       "array([[ True,  True,  True,  True],\n",
       "       [ True,  True,  True,  True],\n",
       "       [ True,  True,  True,  True]])"
      ]
     },
     "execution_count": 48,
     "metadata": {},
     "output_type": "execute_result"
    }
   ],
   "source": [
    "rt <= ty"
   ]
  },
  {
   "cell_type": "code",
   "execution_count": 49,
   "id": "b0cd04d7",
   "metadata": {},
   "outputs": [
    {
     "data": {
      "text/plain": [
       "array([[ True,  True,  True,  True],\n",
       "       [ True,  True,  True,  True],\n",
       "       [ True,  True,  True,  True]])"
      ]
     },
     "execution_count": 49,
     "metadata": {},
     "output_type": "execute_result"
    }
   ],
   "source": [
    "rt < ty"
   ]
  },
  {
   "cell_type": "code",
   "execution_count": 50,
   "id": "4d0926e1",
   "metadata": {},
   "outputs": [
    {
     "data": {
      "text/plain": [
       "array([[False, False, False, False],\n",
       "       [False, False, False, False],\n",
       "       [False, False, False, False]])"
      ]
     },
     "execution_count": 50,
     "metadata": {},
     "output_type": "execute_result"
    }
   ],
   "source": [
    "rt > ty"
   ]
  },
  {
   "cell_type": "code",
   "execution_count": 51,
   "id": "324e8c6c",
   "metadata": {},
   "outputs": [
    {
     "data": {
      "text/plain": [
       "0"
      ]
     },
     "execution_count": 51,
     "metadata": {},
     "output_type": "execute_result"
    }
   ],
   "source": [
    "(rt == ty).sum()"
   ]
  },
  {
   "cell_type": "markdown",
   "id": "c33ad3be",
   "metadata": {},
   "source": [
    "# Array indexing and slicing"
   ]
  },
  {
   "cell_type": "code",
   "execution_count": 52,
   "id": "2ad6c9e2",
   "metadata": {},
   "outputs": [
    {
     "data": {
      "text/plain": [
       "(3, 2, 4)"
      ]
     },
     "execution_count": 52,
     "metadata": {},
     "output_type": "execute_result"
    }
   ],
   "source": [
    "yu = np.array([\n",
    "    [[11, 12, 13, 14],\n",
    "     [15, 16, 17, 18]],\n",
    "    [[15, 16, 17, 18],\n",
    "     [19, 20, 21, 22]],\n",
    "    [[19, 20, 21, 22],\n",
    "     [23, 24, 25, 26]]])\n",
    "yu.shape"
   ]
  },
  {
   "cell_type": "code",
   "execution_count": 53,
   "id": "89d7e3bc",
   "metadata": {},
   "outputs": [
    {
     "data": {
      "text/plain": [
       "26"
      ]
     },
     "execution_count": 53,
     "metadata": {},
     "output_type": "execute_result"
    }
   ],
   "source": [
    "yu[2, 1, 3]            # taking single array"
   ]
  },
  {
   "cell_type": "code",
   "execution_count": 54,
   "id": "def50ad3",
   "metadata": {},
   "outputs": [
    {
     "data": {
      "text/plain": [
       "array([[[15, 16]],\n",
       "\n",
       "       [[19, 20]]])"
      ]
     },
     "execution_count": 54,
     "metadata": {},
     "output_type": "execute_result"
    }
   ],
   "source": [
    "# mixing indices and ranges\n",
    "yu[1:, 0:1, :2]"
   ]
  },
  {
   "cell_type": "code",
   "execution_count": 55,
   "id": "1bf7bd88",
   "metadata": {},
   "outputs": [
    {
     "data": {
      "text/plain": [
       "(2, 1, 2)"
      ]
     },
     "execution_count": 55,
     "metadata": {},
     "output_type": "execute_result"
    }
   ],
   "source": [
    "yu[1:, 0:1, :2].shape"
   ]
  },
  {
   "cell_type": "code",
   "execution_count": 56,
   "id": "6789f3e8",
   "metadata": {},
   "outputs": [
    {
     "data": {
      "text/plain": [
       "array([[15, 16, 17, 18],\n",
       "       [19, 20, 21, 22]])"
      ]
     },
     "execution_count": 56,
     "metadata": {},
     "output_type": "execute_result"
    }
   ],
   "source": [
    "# User fewer indices\n",
    "yu[1]"
   ]
  },
  {
   "cell_type": "code",
   "execution_count": 57,
   "id": "8ea6a374",
   "metadata": {},
   "outputs": [
    {
     "data": {
      "text/plain": [
       "array([[15, 16, 17, 18],\n",
       "       [19, 20, 21, 22]])"
      ]
     },
     "execution_count": 57,
     "metadata": {},
     "output_type": "execute_result"
    }
   ],
   "source": [
    "yu[:2, 1]"
   ]
  },
  {
   "cell_type": "code",
   "execution_count": 58,
   "id": "fd89c0f3",
   "metadata": {},
   "outputs": [
    {
     "data": {
      "application/javascript": [
       "if (window.IPython && IPython.notebook.kernel) IPython.notebook.kernel.execute('jovian.utils.jupyter.get_notebook_name_saved = lambda: \"' + IPython.notebook.notebook_name + '\"')"
      ],
      "text/plain": [
       "<IPython.core.display.Javascript object>"
      ]
     },
     "metadata": {},
     "output_type": "display_data"
    },
    {
     "data": {
      "application/javascript": [
       "window.require && require([\"base/js/namespace\"],function(Jupyter){Jupyter.notebook.save_checkpoint()})"
      ],
      "text/plain": [
       "<IPython.core.display.Javascript object>"
      ]
     },
     "metadata": {},
     "output_type": "display_data"
    },
    {
     "data": {
      "application/javascript": [
       "if (window.IPython && IPython.notebook.kernel) IPython.notebook.kernel.execute('jovian.utils.jupyter.get_notebook_name_saved = lambda: \"' + IPython.notebook.notebook_name + '\"')"
      ],
      "text/plain": [
       "<IPython.core.display.Javascript object>"
      ]
     },
     "metadata": {},
     "output_type": "display_data"
    },
    {
     "name": "stderr",
     "output_type": "stream",
     "text": [
      "\u001b[31m[jovian] Error: Failed to read the Jupyter notebook. Please re-run this cell to try again. If the issue persists, provide the \"filename\" argument to \"jovian.commit\" e.g. \"jovian.commit(filename='my-notebook.ipynb')\"\u001b[0m\n"
     ]
    }
   ],
   "source": [
    "import jovian\n",
    "jovian.commit(project='Numpy')"
   ]
  },
  {
   "cell_type": "markdown",
   "id": "0a1be28e",
   "metadata": {},
   "source": [
    "## You can covert numpy array to python list"
   ]
  },
  {
   "cell_type": "code",
   "execution_count": 59,
   "id": "19348293",
   "metadata": {},
   "outputs": [
    {
     "name": "stdout",
     "output_type": "stream",
     "text": [
      "[1, 2, 3, 4, 5]\n"
     ]
    }
   ],
   "source": [
    "import numpy as np\n",
    "\n",
    "# Creating a NumPy array\n",
    "numpy_array = np.array([1, 2, 3, 4, 5])\n",
    "\n",
    "# Converting the NumPy array to a Python list\n",
    "python_list = numpy_array.tolist()\n",
    "\n",
    "# Displaying the Python list\n",
    "print(python_list)"
   ]
  },
  {
   "cell_type": "code",
   "execution_count": 60,
   "id": "b5e5c572",
   "metadata": {},
   "outputs": [
    {
     "data": {
      "text/plain": [
       "list"
      ]
     },
     "execution_count": 60,
     "metadata": {},
     "output_type": "execute_result"
    }
   ],
   "source": [
    "type(python_list)"
   ]
  },
  {
   "cell_type": "markdown",
   "id": "09bf5dd6",
   "metadata": {},
   "source": [
    "## Other ways of creating Numpy arrays"
   ]
  },
  {
   "cell_type": "code",
   "execution_count": 3,
   "id": "98ce357f",
   "metadata": {},
   "outputs": [
    {
     "data": {
      "text/plain": [
       "array([[0., 0., 0.],\n",
       "       [0., 0., 0.],\n",
       "       [0., 0., 0.]])"
      ]
     },
     "execution_count": 3,
     "metadata": {},
     "output_type": "execute_result"
    }
   ],
   "source": [
    "# null array\n",
    "ui = np.zeros((3,3))\n",
    "ui"
   ]
  },
  {
   "cell_type": "code",
   "execution_count": 61,
   "id": "7821d1d5",
   "metadata": {},
   "outputs": [
    {
     "name": "stdout",
     "output_type": "stream",
     "text": [
      "[[ 58.7  75.8 115.4]\n",
      " [ 80.9 104.6 155.9]\n",
      " [ 80.1 117.4 176.1]\n",
      " [ 60.8  67.2 110.1]\n",
      " [ 79.3 108.2 155.1]]\n",
      "[[ 58.7  75.8 115.4]\n",
      " [ 80.9 104.6 155.9]\n",
      " [ 80.1 117.4 176.1]\n",
      " [ 60.8  67.2 110.1]\n",
      " [ 79.3 108.2 155.1]]\n"
     ]
    }
   ],
   "source": [
    "climate_d = [[73, 67, 43], [91, 88, 64], [87, 134, 58], [102, 43, 37],[69, 96, 70]]\n",
    "weights_d = [[0.3, 0.2, 0.5], [0.1, 0.4, 0.6], [0.7, 0.8, 0.9]]\n",
    "weights = np.array(weights_d, dtype=np.float64)\n",
    "climate_np = np.array(climate_d, dtype=np.float64)\n",
    "d = np.matmul(climate_np, weights)\n",
    "sv = climate_np @ weights\n",
    "print(d)\n",
    "print(sv)                                                                                        "
   ]
  },
  {
   "cell_type": "code",
   "execution_count": 62,
   "id": "54e1d08f",
   "metadata": {},
   "outputs": [
    {
     "data": {
      "text/plain": [
       "array([[[1., 1., 1.],\n",
       "        [1., 1., 1.]],\n",
       "\n",
       "       [[1., 1., 1.],\n",
       "        [1., 1., 1.]]])"
      ]
     },
     "execution_count": 62,
     "metadata": {},
     "output_type": "execute_result"
    }
   ],
   "source": [
    "# all are one\n",
    "io = np.ones([2, 2,3])\n",
    "io"
   ]
  },
  {
   "cell_type": "code",
   "execution_count": 63,
   "id": "a38abf38",
   "metadata": {},
   "outputs": [
    {
     "data": {
      "text/plain": [
       "array([[1., 0., 0.],\n",
       "       [0., 1., 0.],\n",
       "       [0., 0., 1.]])"
      ]
     },
     "execution_count": 63,
     "metadata": {},
     "output_type": "execute_result"
    }
   ],
   "source": [
    "# Identity Matrix \n",
    "op = np.eye(3)\n",
    "op"
   ]
  },
  {
   "cell_type": "code",
   "execution_count": 64,
   "id": "3c15e356",
   "metadata": {},
   "outputs": [
    {
     "data": {
      "text/plain": [
       "array([0.23978921, 0.38884246, 0.0465164 , 0.06500069, 0.29490803,\n",
       "       0.75988373])"
      ]
     },
     "execution_count": 64,
     "metadata": {},
     "output_type": "execute_result"
    }
   ],
   "source": [
    "# random vector\n",
    "pa = np.random.rand(6)\n",
    "pa"
   ]
  },
  {
   "cell_type": "code",
   "execution_count": 65,
   "id": "85c8ace4",
   "metadata": {},
   "outputs": [
    {
     "data": {
      "text/plain": [
       "array([[ 0.03056276, -1.15217047, -1.31073452, -0.27491441],\n",
       "       [-0.28312016, -0.37953496, -0.73501247, -1.06815822],\n",
       "       [-0.71966108,  1.66711763, -0.0468606 ,  0.71296123]])"
      ]
     },
     "execution_count": 65,
     "metadata": {},
     "output_type": "execute_result"
    }
   ],
   "source": [
    "# random matrix \n",
    "sd = np.random.randn(3, 4)\n",
    "sd"
   ]
  },
  {
   "cell_type": "code",
   "execution_count": 66,
   "id": "b1d760f2",
   "metadata": {},
   "outputs": [
    {
     "data": {
      "text/plain": [
       "array([[42, 42, 42],\n",
       "       [42, 42, 42],\n",
       "       [42, 42, 42]])"
      ]
     },
     "execution_count": 66,
     "metadata": {},
     "output_type": "execute_result"
    }
   ],
   "source": [
    "# Fixed value\n",
    "df = np.full([3, 3], 42)\n",
    "df"
   ]
  },
  {
   "cell_type": "code",
   "execution_count": 67,
   "id": "3158a514",
   "metadata": {},
   "outputs": [
    {
     "data": {
      "text/plain": [
       "array([10, 13, 16, 19, 22, 25, 28, 31, 34, 37, 40, 43, 46, 49, 52, 55, 58,\n",
       "       61, 64, 67, 70, 73, 76, 79, 82, 85, 88])"
      ]
     },
     "execution_count": 67,
     "metadata": {},
     "output_type": "execute_result"
    }
   ],
   "source": [
    "# range with Start and Stop\n",
    "fg = np.arange(10, 90, 3)\n",
    "fg"
   ]
  },
  {
   "cell_type": "code",
   "execution_count": 68,
   "id": "8bef2ec2",
   "metadata": {},
   "outputs": [
    {
     "data": {
      "text/plain": [
       "array([[10, 13, 16],\n",
       "       [19, 22, 25],\n",
       "       [28, 31, 34],\n",
       "       [37, 40, 43],\n",
       "       [46, 49, 52],\n",
       "       [55, 58, 61],\n",
       "       [64, 67, 70],\n",
       "       [73, 76, 79],\n",
       "       [82, 85, 88]])"
      ]
     },
     "execution_count": 68,
     "metadata": {},
     "output_type": "execute_result"
    }
   ],
   "source": [
    "# we reshape array also\n",
    "fg.reshape(9,3)"
   ]
  },
  {
   "cell_type": "code",
   "execution_count": 69,
   "id": "4575e3b0",
   "metadata": {},
   "outputs": [
    {
     "data": {
      "text/plain": [
       "array([ 3.,  6.,  9., 12., 15., 18., 21., 24., 27., 30.])"
      ]
     },
     "execution_count": 69,
     "metadata": {},
     "output_type": "execute_result"
    }
   ],
   "source": [
    "# equally Space numbers in range \n",
    "gh = np.linspace(3, 30, 10)\n",
    "gh"
   ]
  },
  {
   "cell_type": "code",
   "execution_count": 46,
   "id": "ca2b909a",
   "metadata": {},
   "outputs": [
    {
     "data": {
      "application/javascript": [
       "window.require && require([\"base/js/namespace\"],function(Jupyter){Jupyter.notebook.save_checkpoint()})"
      ],
      "text/plain": [
       "<IPython.core.display.Javascript object>"
      ]
     },
     "metadata": {},
     "output_type": "display_data"
    },
    {
     "name": "stdout",
     "output_type": "stream",
     "text": [
      "[jovian] Updating notebook \"sivaalgebra27/numpy\" on https://jovian.com/\u001b[0m\n",
      "[jovian] Committed successfully! https://jovian.com/sivaalgebra27/numpy\u001b[0m\n"
     ]
    },
    {
     "data": {
      "text/plain": [
       "'https://jovian.com/sivaalgebra27/numpy'"
      ]
     },
     "execution_count": 46,
     "metadata": {},
     "output_type": "execute_result"
    }
   ],
   "source": [
    "import jovian\n",
    "jovian.commit(project='Numpy')"
   ]
  },
  {
   "cell_type": "markdown",
   "id": "c5ee32a3",
   "metadata": {},
   "source": [
    "## We've covered the following topics :\n",
    "###     • Going from Python lists to Numpy arrays\n",
    "###     • Operating on Numpy arrays\n",
    "###     • Benefits of using Numpy arrays over lists\n",
    "###     • Multi-dimensional Numpy arrays\n",
    "###     • Working with CSV data files\n",
    "###     • Arithmetic operations and broadcasting\n",
    "###     • Array indexing and slicing\n",
    "###     • Other ways of creating Numpy arrays\n"
   ]
  },
  {
   "cell_type": "markdown",
   "id": "29ce1a43",
   "metadata": {},
   "source": [
    "## Check out the following resouces for learning more about Numpy:\n",
    "###   • Official tutorial: https://numpy.org/devdocs/user/quickstart.html\n",
    "###   • Numpy tutorial on W3Schools: https://www.w3schools.com/python/numpy_intro.asp\n",
    "###   • Advanced Numpy (exploring the internals):  \n",
    "### http://scipy- lectures.org/advanced/advanced_numpy/index.html"
   ]
  },
  {
   "cell_type": "markdown",
   "id": "b2a43234",
   "metadata": {},
   "source": [
    "# concatenate():\n",
    "\n",
    "## Syntax : numpy.concatenate((arr1, arr2, …), axis=0, out=None)\n",
    "\n",
    "### Parameters :\n",
    "#### arr1, arr2, … : [sequence of array_like] The arrays must have the same shape, except in the dimension corresponding to axis.\n",
    "#### axis : [int, optional] The axis along which the arrays will be joined. If axis is None, arrays are flattened before use. Default is 0.\n",
    "#### out : [ndarray, optional] If provided, the destination to place the result. The shape must be correct, matching that of what concatenate would have returned if no out argument were specified.\n",
    "#### Return : [ndarray] The concatenated array."
   ]
  },
  {
   "cell_type": "code",
   "execution_count": 70,
   "id": "4df85441",
   "metadata": {},
   "outputs": [
    {
     "data": {
      "text/plain": [
       "array([[1, 2],\n",
       "       [3, 4],\n",
       "       [5, 6],\n",
       "       [7, 8]])"
      ]
     },
     "execution_count": 70,
     "metadata": {},
     "output_type": "execute_result"
    }
   ],
   "source": [
    "array_1 = [[1, 2], [3, 4]]\n",
    "array_2 = [[5, 6], [7, 8]]\n",
    "array_con = np.concatenate((array_1, array_2), axis = 0)\n",
    "array_con"
   ]
  },
  {
   "cell_type": "code",
   "execution_count": 71,
   "id": "32750cd8",
   "metadata": {},
   "outputs": [
    {
     "data": {
      "text/plain": [
       "array([[1, 2, 5, 6],\n",
       "       [3, 4, 7, 8]])"
      ]
     },
     "execution_count": 71,
     "metadata": {},
     "output_type": "execute_result"
    }
   ],
   "source": [
    "array_con1 = np.concatenate((array_1, array_2), axis = 1)\n",
    "array_con1"
   ]
  },
  {
   "cell_type": "code",
   "execution_count": 72,
   "id": "ba0832bc",
   "metadata": {},
   "outputs": [
    {
     "data": {
      "text/plain": [
       "array([1, 2, 3, 4, 5, 6, 7, 8])"
      ]
     },
     "execution_count": 72,
     "metadata": {},
     "output_type": "execute_result"
    }
   ],
   "source": [
    "array_con2 = np.concatenate((array_1, array_2), axis = None)\n",
    "array_con2"
   ]
  },
  {
   "cell_type": "markdown",
   "id": "43c29eb8",
   "metadata": {},
   "source": [
    "# 100 Numpy Exercise \n",
    "\n",
    "## Source: https://github.com/rougier/numpy-100"
   ]
  },
  {
   "cell_type": "markdown",
   "id": "8a7cb564",
   "metadata": {},
   "source": [
    "# Interacting with the OS and file system"
   ]
  },
  {
   "cell_type": "code",
   "execution_count": 73,
   "id": "43c8857b",
   "metadata": {},
   "outputs": [],
   "source": [
    "import os"
   ]
  },
  {
   "cell_type": "code",
   "execution_count": 74,
   "id": "a74c4ca3",
   "metadata": {},
   "outputs": [
    {
     "data": {
      "text/plain": [
       "'C:\\\\Users\\\\sivaa\\\\NumPy and  Pandas'"
      ]
     },
     "execution_count": 74,
     "metadata": {},
     "output_type": "execute_result"
    }
   ],
   "source": [
    "os.getcwd()       # To file location of this file"
   ]
  },
  {
   "cell_type": "code",
   "execution_count": 75,
   "id": "9626494e",
   "metadata": {},
   "outputs": [
    {
     "name": "stdout",
     "output_type": "stream",
     "text": [
      "Help on built-in function listdir in module nt:\n",
      "\n",
      "listdir(path=None)\n",
      "    Return a list containing the names of the files in the directory.\n",
      "\n",
      "    path can be specified as either str, bytes, or a path-like object.  If path is bytes,\n",
      "      the filenames returned will also be bytes; in all other circumstances\n",
      "      the filenames returned will be str.\n",
      "    If path is None, uses the path='.'.\n",
      "    On some platforms, path may also be specified as an open file descriptor;\\\n",
      "      the file descriptor must refer to a directory.\n",
      "      If this functionality is unavailable, using it raises NotImplementedError.\n",
      "\n",
      "    The list is in arbitrary order.  It does not include the special\n",
      "    entries '.' and '..' even if they are present in the directory.\n",
      "\n"
     ]
    }
   ],
   "source": [
    "help(os.listdir)    # to get the list of files in a directory "
   ]
  },
  {
   "cell_type": "code",
   "execution_count": 76,
   "id": "5454fef6",
   "metadata": {},
   "outputs": [
    {
     "data": {
      "text/plain": [
       "['.ipynb_checkpoints', '.jovianrc', 'climate.txt', 'data', 'Numpy.ipynb']"
      ]
     },
     "execution_count": 76,
     "metadata": {},
     "output_type": "execute_result"
    }
   ],
   "source": [
    "os.listdir('.')          # relative path"
   ]
  },
  {
   "cell_type": "code",
   "execution_count": 77,
   "id": "98976518",
   "metadata": {},
   "outputs": [
    {
     "ename": "FileNotFoundError",
     "evalue": "[WinError 3] The system cannot find the path specified: '/usr'",
     "output_type": "error",
     "traceback": [
      "\u001b[1;31m---------------------------------------------------------------------------\u001b[0m",
      "\u001b[1;31mFileNotFoundError\u001b[0m                         Traceback (most recent call last)",
      "Cell \u001b[1;32mIn[77], line 1\u001b[0m\n\u001b[1;32m----> 1\u001b[0m \u001b[43mos\u001b[49m\u001b[38;5;241;43m.\u001b[39;49m\u001b[43mlistdir\u001b[49m\u001b[43m(\u001b[49m\u001b[38;5;124;43m'\u001b[39;49m\u001b[38;5;124;43m/usr\u001b[39;49m\u001b[38;5;124;43m'\u001b[39;49m\u001b[43m)\u001b[49m       \u001b[38;5;66;03m# absolute path\u001b[39;00m\n",
      "\u001b[1;31mFileNotFoundError\u001b[0m: [WinError 3] The system cannot find the path specified: '/usr'"
     ]
    }
   ],
   "source": [
    "os.listdir('/usr')       # absolute path"
   ]
  },
  {
   "cell_type": "code",
   "execution_count": 78,
   "id": "1d22bac5",
   "metadata": {},
   "outputs": [],
   "source": [
    "os.makedirs('./data1', exist_ok = True) # to create new file directory"
   ]
  },
  {
   "cell_type": "code",
   "execution_count": 79,
   "id": "6a4aeb6d",
   "metadata": {},
   "outputs": [
    {
     "data": {
      "text/plain": [
       "True"
      ]
     },
     "execution_count": 79,
     "metadata": {},
     "output_type": "execute_result"
    }
   ],
   "source": [
    "'data' in os.listdir('.')"
   ]
  },
  {
   "cell_type": "code",
   "execution_count": 80,
   "id": "a5a038f7",
   "metadata": {},
   "outputs": [
    {
     "data": {
      "text/plain": [
       "[]"
      ]
     },
     "execution_count": 80,
     "metadata": {},
     "output_type": "execute_result"
    }
   ],
   "source": [
    "os.listdir('./data')"
   ]
  },
  {
   "cell_type": "markdown",
   "id": "9ffe4aa6",
   "metadata": {},
   "source": [
    "# Adding New files in the dirctory"
   ]
  },
  {
   "cell_type": "code",
   "execution_count": 81,
   "id": "5dcab7df",
   "metadata": {},
   "outputs": [],
   "source": [
    "url1 = 'https://docs.google.com/presentation/d/1HrHWvxAu2pSOeAQSN5xJ8vvU1fokRPR-/edit?usp=drive_link&ouid=101341994574571611875&rtpof=true&sd=true'"
   ]
  },
  {
   "cell_type": "code",
   "execution_count": 82,
   "id": "2e5469f8",
   "metadata": {},
   "outputs": [],
   "source": [
    "import urllib.request"
   ]
  },
  {
   "cell_type": "code",
   "execution_count": 83,
   "id": "3ccf8a9b",
   "metadata": {},
   "outputs": [
    {
     "ename": "PermissionError",
     "evalue": "[Errno 13] Permission denied: './data'",
     "output_type": "error",
     "traceback": [
      "\u001b[1;31m---------------------------------------------------------------------------\u001b[0m",
      "\u001b[1;31mPermissionError\u001b[0m                           Traceback (most recent call last)",
      "Cell \u001b[1;32mIn[83], line 1\u001b[0m\n\u001b[1;32m----> 1\u001b[0m \u001b[43murllib\u001b[49m\u001b[38;5;241;43m.\u001b[39;49m\u001b[43mrequest\u001b[49m\u001b[38;5;241;43m.\u001b[39;49m\u001b[43murlretrieve\u001b[49m\u001b[43m(\u001b[49m\u001b[43murl1\u001b[49m\u001b[43m,\u001b[49m\u001b[43m \u001b[49m\u001b[38;5;124;43m'\u001b[39;49m\u001b[38;5;124;43m./data\u001b[39;49m\u001b[38;5;124;43m'\u001b[39;49m\u001b[43m)\u001b[49m\n",
      "File \u001b[1;32mC:\\Program Files\\Python312\\Lib\\urllib\\request.py:250\u001b[0m, in \u001b[0;36murlretrieve\u001b[1;34m(url, filename, reporthook, data)\u001b[0m\n\u001b[0;32m    248\u001b[0m \u001b[38;5;66;03m# Handle temporary file setup.\u001b[39;00m\n\u001b[0;32m    249\u001b[0m \u001b[38;5;28;01mif\u001b[39;00m filename:\n\u001b[1;32m--> 250\u001b[0m     tfp \u001b[38;5;241m=\u001b[39m \u001b[38;5;28;43mopen\u001b[39;49m\u001b[43m(\u001b[49m\u001b[43mfilename\u001b[49m\u001b[43m,\u001b[49m\u001b[43m \u001b[49m\u001b[38;5;124;43m'\u001b[39;49m\u001b[38;5;124;43mwb\u001b[39;49m\u001b[38;5;124;43m'\u001b[39;49m\u001b[43m)\u001b[49m\n\u001b[0;32m    251\u001b[0m \u001b[38;5;28;01melse\u001b[39;00m:\n\u001b[0;32m    252\u001b[0m     tfp \u001b[38;5;241m=\u001b[39m tempfile\u001b[38;5;241m.\u001b[39mNamedTemporaryFile(delete\u001b[38;5;241m=\u001b[39m\u001b[38;5;28;01mFalse\u001b[39;00m)\n",
      "\u001b[1;31mPermissionError\u001b[0m: [Errno 13] Permission denied: './data'"
     ]
    }
   ],
   "source": [
    "urllib.request.urlretrieve(url1, './data')"
   ]
  },
  {
   "cell_type": "code",
   "execution_count": null,
   "id": "43b38bc6",
   "metadata": {},
   "outputs": [],
   "source": []
  },
  {
   "cell_type": "code",
   "execution_count": null,
   "id": "e176181d",
   "metadata": {},
   "outputs": [],
   "source": []
  }
 ],
 "metadata": {
  "kernelspec": {
   "display_name": "Python 3 (ipykernel)",
   "language": "python",
   "name": "python3"
  },
  "language_info": {
   "codemirror_mode": {
    "name": "ipython",
    "version": 3
   },
   "file_extension": ".py",
   "mimetype": "text/x-python",
   "name": "python",
   "nbconvert_exporter": "python",
   "pygments_lexer": "ipython3",
   "version": "3.12.1"
  }
 },
 "nbformat": 4,
 "nbformat_minor": 5
}
